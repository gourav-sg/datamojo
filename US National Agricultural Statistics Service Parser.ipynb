{
 "cells": [
  {
   "cell_type": "markdown",
   "metadata": {},
   "source": [
    "## ENV\n",
    "\n",
    "__Source__: http://usda.mannlib.cornell.edu/MannUsda/viewDocumentInfo.do?documentID=1048\n",
    "\n",
    "__Not using__: https://pypi.python.org/pypi/nass/0.1.0\n",
    "\n",
    "__Approach__: Not using the CSV files because text file processing is more interesting, and we do not need to download \n",
    "\n",
    "__Python__: 3\n",
    "\n",
    "__Libraries__: urllib3, pandas, re, regex, sys, BeautifulSoup4\n",
    "\n",
    "__Date__: 08-Feb-2018\n",
    "\n",
    "__Github__: The code is available in my Github as well along with these comments to avoid plagiarism\n",
    "\n",
    "\n",
    "## NOTE/ DISCLAIMER\n",
    "\n",
    "This is not a production scale work and the code has been run for a few years from 2015 until 2017. There are a lot of testing that needs to be done\n",
    "\n",
    "This program does not require downloading any files and runs by downloading all the text files. This program is designed for this particular data set and conditions only. In case the file sizes are large then the algorithms will have to change\n",
    "\n",
    "\n",
    "## PENDING ITEMS\n",
    "\n",
    "1. The conversion of data types for dates and numerical values in the data frame needs to be completed\n",
    "2. Documentation and comments\n",
    "3. Data Quality Checks \n",
    "4. Test Cases for parsing and checks\n",
    "\n",
    "\n",
    "\n",
    "## LICENSE \n",
    "\n",
    "Gourav Sengupta. This is for evaluation and not for production use."
   ]
  },
  {
   "cell_type": "code",
   "execution_count": 46,
   "metadata": {},
   "outputs": [],
   "source": [
    "import urllib3\n",
    "import pandas\n",
    "import re, regex\n",
    "import sys\n",
    "from bs4 import BeautifulSoup"
   ]
  },
  {
   "cell_type": "code",
   "execution_count": 47,
   "metadata": {},
   "outputs": [],
   "source": [
    "pandas.options.display.max_rows = 999"
   ]
  },
  {
   "cell_type": "markdown",
   "metadata": {},
   "source": [
    "__Plantation Results__"
   ]
  },
  {
   "cell_type": "markdown",
   "metadata": {},
   "source": [
    "A sample of the table which is concatenated across for the entire year into the single dataframe:\n",
    "\n",
    "```\n",
    "Sunflowers Harvested - Selected States\n",
    "[These 4 States harvested 84% of the 2015 sunflower acreage]\n",
    "------------------------------------------------------------------------\n",
    "                :               Week ending               :             \n",
    "                :-----------------------------------------:             \n",
    "      State     :November 27, :November 20, :November 27, :  2011-2015  \n",
    "                :    2015     :    2016     :    2016     :   Average   \n",
    "------------------------------------------------------------------------\n",
    "                :                        percent                        \n",
    "                :                                                       \n",
    "Colorado .......:     93            92            97            96      \n",
    "Kansas .........:     94            89            95            94      \n",
    "North Dakota ...:     99            92            97            94      \n",
    "South Dakota ...:     99            97            99            95      \n",
    "                :                                                       \n",
    "4 States .......:     98            94            98            94      \n",
    "------------------------------------------------------------------------\n",
    "```"
   ]
  },
  {
   "cell_type": "code",
   "execution_count": 33,
   "metadata": {},
   "outputs": [],
   "source": [
    "\n",
    "def mainTableInstanceFromPage(resultParse):\n",
    "    #crop \n",
    "    cropType = resultParse[0].strip()\n",
    "    #the entire table\n",
    "    theTable = regex.match(\"(Week\\sending.*\\r\\n.*\\r\\n.*(:\\s{0,}[a-zA-Z]*\\s+\\d{1,},\\s{0,}){1}.*\\r\\n.*(:\\s+\\d\\d\\d\\d\\s+){3}|\\sState\\s+(:\\s?[a-zA-Z\\s]+){3,5}).*\\r\\n---+\\r\\n.*percent.*\\r\\n.\\s+:\\s+\\r\\n(([a-zA-Z\\s]+\\s\\.+:)(\\s+\\d+|\\s+\\-|\\s+\\(NA\\))+.*\\r\\n)+\",resultParse[1]).captures(5)\n",
    "    #preparing the date headings\n",
    "    datePart1 = regex.findall(\"(:\\s{0,}[a-zA-Z]+\\s+\\d+,\\s{0,})\",resultParse[1])\n",
    "    datePart1 = [\" \".join(h.replace(\":\",\"\").split()[-2:]) for h in datePart1]\n",
    "    datePart2 = regex.findall(\"(:\\s+\\d\\d\\d\\d\\s+)\",resultParse[1])\n",
    "    datePart2 = [h.split()[1] for h in datePart2]\n",
    "    datePart = [\" \".join([datePart1[h], datePart2[h]]) for h in range(0,len(datePart2))]\n",
    "    #creating the pandas frame\n",
    "    dfCheck = pandas.DataFrame([regex.split(\":|\\s\\s+|\\s\\.+\",h.rstrip()) for h in theTable], columns=[\"state\",\"dummy\",\"dummy1\"]+datePart+[\"dummy2\"])\n",
    "    resultFrame = dfCheck.filter(items=[\"state\"] + datePart).melt(id_vars=[\"state\"]).rename(columns={\"variable\":\"weekEnding\",\"value\":\"metricsPercent\"})\n",
    "    resultFrame[\"metricsOf\"] = cropType.strip()\n",
    "    return resultFrame\n",
    "\n",
    "def concatAllMainTableForPage(link):\n",
    "    regularExpr = \"([a-zA-Z\\s]+)-.*\\r\\n\\[.*\\]\\r\\n---+\\r\\n.*(((Week\\sending.*\\r\\n.*\\r\\n.*(:\\s{0,}[a-zA-Z]*\\s+\\d{1,},\\s{0,}){1}.*\\r\\n.*(:\\s+\\d\\d\\d\\d\\s+){3}).*\\r\\n---+\\r\\n.*percent.*\\r\\n.\\s+:\\s+\\r\\n(([a-zA-Z\\s]+\\s\\.+:)(\\s+\\d+|\\s+\\-)+.*\\r\\n)+)+)\"\n",
    "    try: \n",
    "        http = urllib3.PoolManager()\n",
    "        resultTest = regex.findall(regularExpr, http.request('GET', link, retries=False).data.decode('ascii'))\n",
    "        http.clear()\n",
    "        return pandas.concat(([mainTableInstanceFromPage(h) for h in resultTest]))\n",
    "    except:\n",
    "        http.clear()\n",
    "        print(\"link: {}\".format(link))\n",
    "        print(\"Error:\", sys.exc_info()[0])"
   ]
  },
  {
   "cell_type": "markdown",
   "metadata": {},
   "source": [
    "__Plantation Conditions__"
   ]
  },
  {
   "cell_type": "markdown",
   "metadata": {},
   "source": [
    "A sample of the table which is concatenated across for the entire year:\n",
    "\n",
    "```\n",
    "Winter Wheat Condition - Selected States: Week Ending November 27, 2016\n",
    "[National crop conditions for selected States are weighted based on 2015\n",
    "planted acreage]\n",
    "----------------------------------------------------------------------------\n",
    "      State     : Very poor :   Poor    :   Fair    :   Good    : Excellent \n",
    "----------------------------------------------------------------------------\n",
    "                :                          percent                          \n",
    "                :                                                           \n",
    "Arkansas .......:     5          10          35          40          10     \n",
    "California .....:     -           -           -          25          75     \n",
    "Colorado .......:     3          12          38          41           6     \n",
    "Idaho ..........:     -           -          22          55          23     \n",
    "Illinois .......:     3           2          25          56          14     \n",
    "Indiana ........:     2           4          26          53          15     \n",
    "Kansas .........:     3          10          35          45           7     \n",
    "Michigan .......:     2           3          27          52          16     \n",
    "Missouri .......:     3           6          33          51           7     \n",
    "Montana ........:     -           2          21          49          28     \n",
    "Nebraska .......:     2          11          34          48           5     \n",
    "North Carolina .:     1          12          29          56           2     \n",
    "Ohio ...........:     -           1          12          61          26     \n",
    "Oklahoma .......:     3           9          35          46           7     \n",
    "Oregon .........:     1           3          14          65          17     \n",
    "South Dakota ...:     1           8          40          46           5     \n",
    "Texas ..........:     4          12          43          34           7     \n",
    "Washington .....:     -           1           8          74          17     \n",
    "                :                                                           \n",
    "18 States ......:     2           8          32          47          11     \n",
    "                :                                                           \n",
    "Previous week ..:     2           8          32          47          11     \n",
    "Previous year ..:     2           7          36          44          11     \n",
    "----------------------------------------------------------------------------\n",
    "```"
   ]
  },
  {
   "cell_type": "code",
   "execution_count": 79,
   "metadata": {},
   "outputs": [],
   "source": [
    "\n",
    "\n",
    "def conditionTableInstanceFromPage(resultParse):\n",
    "    # crop type \n",
    "    cropType = resultParse[0].strip()\n",
    "    # weekending \n",
    "    weekEnding = resultParse[1]\n",
    "    # preparing the headings\n",
    "    headings = [h.strip() for h in resultParse[5].split(\":\")]\n",
    "    # the entire table\n",
    "    theTable = regex.match(\"(\\s?State\\s+(:\\s?[a-zA-Z\\s]+){3,}).*\\r\\n---+\\r\\n.*percent.*\\r\\n.\\s+:\\s+\\r\\n(([a-zA-Z\\s]+\\s\\.+:)(\\s+\\d+|\\s+\\-)+.*\\r\\n)+\",resultParse[3]).captures(3)    \n",
    "    dfCheck = pandas.DataFrame([regex.split(\":|\\s\\s+|\\s\\.+\",h.rstrip()) for h in theTable], columns=[\"state\",\"dummy\",\"dummy1\"] + headings[1:])\n",
    "    resultFrame = dfCheck.filter(items=[\"state\"] + headings[1:]).melt(id_vars=[\"state\"]).rename(columns={\"value\":\"metricsPercent\"})\n",
    "    resultFrame[\"measurementOf\"] = cropType\n",
    "    resultFrame[\"WeekEnding\"] = weekEnding\n",
    "    return resultFrame\n",
    "    \n",
    "def concatAllConditionTableForPage(link):\n",
    "    regularExpr = \"([a-zA-Z\\s]+)-.*:\\s+Week\\sEnding\\s+(.*).*\\r\\n\\[(.*\\r\\n)?.*\\]\\r\\n---+\\r\\n.*(((State\\s+(:\\s?[a-zA-Z\\s]+)+).*\\r\\n---+\\r\\n.*percent.*\\r\\n.\\s+:\\s+\\r\\n(([a-zA-Z\\s]+\\s\\.+:)(\\s+\\d+|\\s+\\-)+.*\\r\\n)+)+)\"\n",
    "    try: \n",
    "        http = urllib3.PoolManager()\n",
    "        resultTest = regex.findall(regularExpr, http.request('GET', link, retries=False).data.decode('ascii'))\n",
    "        http.clear()\n",
    "        return pandas.concat(([conditionTableInstanceFromPage(h) for h in resultTest]))\n",
    "    except:\n",
    "        http.clear()\n",
    "        print(\"link: {}\".format(link))\n",
    "        print(\"Error:\", sys.exc_info()[0])"
   ]
  },
  {
   "cell_type": "markdown",
   "metadata": {},
   "source": [
    "# START PROGRAM\n",
    "\n",
    "Enter value of the year below to find all the required results in a data frame for that year"
   ]
  },
  {
   "cell_type": "code",
   "execution_count": 70,
   "metadata": {},
   "outputs": [],
   "source": [
    "yearValue = 2017"
   ]
  },
  {
   "cell_type": "markdown",
   "metadata": {},
   "source": [
    "Fetching all the links for the particular year"
   ]
  },
  {
   "cell_type": "code",
   "execution_count": 80,
   "metadata": {},
   "outputs": [],
   "source": [
    "http = urllib3.PoolManager()\n",
    "\n",
    "link = \"http://usda.mannlib.cornell.edu/MannUsda/viewDocumentInfo.do?documentID=1048\"\n",
    "document = http.request('GET', link, retries=False)\n",
    "\n",
    "soup = BeautifulSoup(document.data, 'html.parser')\n",
    "fileLinks = [h.contents[1].attrs[\"href\"] for h in soup.find_all(id=re.compile(\".*{}.txt\".format(yearValue)))]"
   ]
  },
  {
   "cell_type": "code",
   "execution_count": 81,
   "metadata": {},
   "outputs": [
    {
     "name": "stdout",
     "output_type": "stream",
     "text": [
      "CPU times: user 1.68 s, sys: 22.3 ms, total: 1.7 s\n",
      "Wall time: 10.2 s\n"
     ]
    }
   ],
   "source": [
    "%time plantationTable = pandas.concat([concatAllMainTableForPage(eachLink) for eachLink in fileLinks])"
   ]
  },
  {
   "cell_type": "code",
   "execution_count": 82,
   "metadata": {},
   "outputs": [
    {
     "name": "stdout",
     "output_type": "stream",
     "text": [
      "CPU times: user 1.27 s, sys: 22.8 ms, total: 1.29 s\n",
      "Wall time: 9.71 s\n"
     ]
    }
   ],
   "source": [
    "%time conditionTable = pandas.concat([concatAllConditionTableForPage(eachLink) for eachLink in fileLinks])"
   ]
  },
  {
   "cell_type": "code",
   "execution_count": 86,
   "metadata": {},
   "outputs": [
    {
     "data": {
      "text/html": [
       "<div>\n",
       "<style>\n",
       "    .dataframe thead tr:only-child th {\n",
       "        text-align: right;\n",
       "    }\n",
       "\n",
       "    .dataframe thead th {\n",
       "        text-align: left;\n",
       "    }\n",
       "\n",
       "    .dataframe tbody tr th {\n",
       "        vertical-align: top;\n",
       "    }\n",
       "</style>\n",
       "<table border=\"1\" class=\"dataframe\">\n",
       "  <thead>\n",
       "    <tr style=\"text-align: right;\">\n",
       "      <th></th>\n",
       "      <th>state</th>\n",
       "      <th>weekEnding</th>\n",
       "      <th>metricsPercent</th>\n",
       "      <th>metricsOf</th>\n",
       "    </tr>\n",
       "  </thead>\n",
       "  <tbody>\n",
       "    <tr>\n",
       "      <th>0</th>\n",
       "      <td>Colorado</td>\n",
       "      <td>November 26, 2016</td>\n",
       "      <td>99</td>\n",
       "      <td>Corn Harvested</td>\n",
       "    </tr>\n",
       "    <tr>\n",
       "      <th>1</th>\n",
       "      <td>Illinois</td>\n",
       "      <td>November 26, 2016</td>\n",
       "      <td>100</td>\n",
       "      <td>Corn Harvested</td>\n",
       "    </tr>\n",
       "    <tr>\n",
       "      <th>2</th>\n",
       "      <td>Indiana</td>\n",
       "      <td>November 26, 2016</td>\n",
       "      <td>99</td>\n",
       "      <td>Corn Harvested</td>\n",
       "    </tr>\n",
       "    <tr>\n",
       "      <th>3</th>\n",
       "      <td>Iowa</td>\n",
       "      <td>November 26, 2016</td>\n",
       "      <td>99</td>\n",
       "      <td>Corn Harvested</td>\n",
       "    </tr>\n",
       "  </tbody>\n",
       "</table>\n",
       "</div>"
      ],
      "text/plain": [
       "      state         weekEnding metricsPercent       metricsOf\n",
       "0  Colorado  November 26, 2016             99  Corn Harvested\n",
       "1  Illinois  November 26, 2016            100  Corn Harvested\n",
       "2   Indiana  November 26, 2016             99  Corn Harvested\n",
       "3      Iowa  November 26, 2016             99  Corn Harvested"
      ]
     },
     "execution_count": 86,
     "metadata": {},
     "output_type": "execute_result"
    }
   ],
   "source": [
    "plantationTable[:4]"
   ]
  },
  {
   "cell_type": "code",
   "execution_count": 85,
   "metadata": {},
   "outputs": [
    {
     "data": {
      "text/html": [
       "<div>\n",
       "<style>\n",
       "    .dataframe thead tr:only-child th {\n",
       "        text-align: right;\n",
       "    }\n",
       "\n",
       "    .dataframe thead th {\n",
       "        text-align: left;\n",
       "    }\n",
       "\n",
       "    .dataframe tbody tr th {\n",
       "        vertical-align: top;\n",
       "    }\n",
       "</style>\n",
       "<table border=\"1\" class=\"dataframe\">\n",
       "  <thead>\n",
       "    <tr style=\"text-align: right;\">\n",
       "      <th></th>\n",
       "      <th>state</th>\n",
       "      <th>variable</th>\n",
       "      <th>metricsPercent</th>\n",
       "      <th>measurementOf</th>\n",
       "      <th>WeekEnding</th>\n",
       "    </tr>\n",
       "  </thead>\n",
       "  <tbody>\n",
       "    <tr>\n",
       "      <th>10</th>\n",
       "      <td>Nebraska</td>\n",
       "      <td>Very poor</td>\n",
       "      <td>2</td>\n",
       "      <td>Winter Wheat Condition</td>\n",
       "      <td>November 26, 2017</td>\n",
       "    </tr>\n",
       "    <tr>\n",
       "      <th>11</th>\n",
       "      <td>North Carolina</td>\n",
       "      <td>Very poor</td>\n",
       "      <td>-</td>\n",
       "      <td>Winter Wheat Condition</td>\n",
       "      <td>November 26, 2017</td>\n",
       "    </tr>\n",
       "    <tr>\n",
       "      <th>12</th>\n",
       "      <td>Ohio</td>\n",
       "      <td>Very poor</td>\n",
       "      <td>-</td>\n",
       "      <td>Winter Wheat Condition</td>\n",
       "      <td>November 26, 2017</td>\n",
       "    </tr>\n",
       "    <tr>\n",
       "      <th>13</th>\n",
       "      <td>Oklahoma</td>\n",
       "      <td>Very poor</td>\n",
       "      <td>2</td>\n",
       "      <td>Winter Wheat Condition</td>\n",
       "      <td>November 26, 2017</td>\n",
       "    </tr>\n",
       "  </tbody>\n",
       "</table>\n",
       "</div>"
      ],
      "text/plain": [
       "             state   variable metricsPercent           measurementOf  \\\n",
       "10        Nebraska  Very poor              2  Winter Wheat Condition   \n",
       "11  North Carolina  Very poor              -  Winter Wheat Condition   \n",
       "12            Ohio  Very poor              -  Winter Wheat Condition   \n",
       "13        Oklahoma  Very poor              2  Winter Wheat Condition   \n",
       "\n",
       "           WeekEnding  \n",
       "10  November 26, 2017  \n",
       "11  November 26, 2017  \n",
       "12  November 26, 2017  \n",
       "13  November 26, 2017  "
      ]
     },
     "execution_count": 85,
     "metadata": {},
     "output_type": "execute_result"
    }
   ],
   "source": [
    "conditionTable[10:14]"
   ]
  },
  {
   "cell_type": "markdown",
   "metadata": {},
   "source": [
    "## COMMENTS\n",
    "\n",
    "This needs to be completed"
   ]
  },
  {
   "cell_type": "code",
   "execution_count": 736,
   "metadata": {
    "collapsed": true
   },
   "outputs": [],
   "source": [
    "re.compile(r\"\"\" \n",
    " \n",
    " (                                # Beginning of a table\n",
    " (                                # HEADER - START (This is for reading two different kind of headers)\n",
    " Week\\sending.*                   # Week ending string\n",
    " \\r\\n.*\\r\\n.*                     # Two new lines with any characters following them \n",
    " (:\\s?[a-zA-Z]*\\s+\\d{1,},\\s)+     # Matching for multiple occurrences of string of type \": October 2,\"\n",
    " .*\\r\\n.*                         # Any characters, followed by nebw line, followed by any characters\n",
    " (:\\s+\\d\\d\\d\\d\\s+)+               # Matching for multiple occurrences of type \":    2015     \"\n",
    " )                                # HEADER - END (Completion of heading parsing)\n",
    " .*\\r\\n---+                       # Matching for line following heading \"------\"\n",
    " \\r\\n.*percent.*\\r\\n.*            # The following line having the percent keyword followed by another line and strings\n",
    " .\\s+:\\s+\\r\\n                     # The line after the line containing the word percent\n",
    " (                                # Multiple matches of lines like \"Arkansas .......:     7          10          26          43          14\"\n",
    " ([a-zA-Z\\s]+\\s\\.+:)              # Matching for State \"Arkansas .......:\"\n",
    " (\\s+\\d+|\\s+\\-)+                  # Matching for percent values\n",
    " .*\\r\\n                           # New line at end of the line containing the percent values\n",
    " )+                               # Multiple occurrences of the lines containing percent values\n",
    " )+                               # Ending of a table\n",
    "\"\"\", re.VERBOSE)"
   ]
  }
 ],
 "metadata": {
  "kernelspec": {
   "display_name": "Python 3",
   "language": "python",
   "name": "python3"
  },
  "language_info": {
   "codemirror_mode": {
    "name": "ipython",
    "version": 3
   },
   "file_extension": ".py",
   "mimetype": "text/x-python",
   "name": "python",
   "nbconvert_exporter": "python",
   "pygments_lexer": "ipython3",
   "version": "3.6.2"
  }
 },
 "nbformat": 4,
 "nbformat_minor": 1
}
