{
 "cells": [
  {
   "cell_type": "code",
   "execution_count": 2,
   "metadata": {},
   "outputs": [],
   "source": [
    "import sys, functools, itertools, operator"
   ]
  },
  {
   "cell_type": "code",
   "execution_count": 3,
   "metadata": {},
   "outputs": [
    {
     "data": {
      "text/plain": [
       "[1, 43, 1577, 411, 422]"
      ]
     },
     "execution_count": 3,
     "metadata": {},
     "output_type": "execute_result"
    }
   ],
   "source": [
    "# first value and second list\n",
    "# 1\n",
    "# 21        22\n",
    "# 311 311   321 321\n",
    "# expected output\n",
    "#1 21+22 311+311+321+321\n",
    "\n",
    "#preparing the initial structure\n",
    "fourth_level_two = [422, []]\n",
    "fourth_level_one = [411, [fourth_level_two]]\n",
    "third_level_one = [311, []]\n",
    "third_level_two = [321, []]\n",
    "third_level_three = [323, [fourth_level_one]]\n",
    "second_level_one = [21, [third_level_one] + [third_level_three] ]\n",
    "second_level_one = [21, [third_level_one] + [third_level_three] + [third_level_one]]\n",
    "\n",
    "second_level_two = [22, [third_level_two] + [third_level_one]]\n",
    "first_level = [1, [second_level_one] + [second_level_two]]\n",
    "\n",
    "\n",
    "accumulator = []\n",
    "def level_sum(value, accumulator, level = 0):\n",
    "    try:\n",
    "        if (len(value[1]) == 0):\n",
    "            accumulator.append((level, value[0]))\n",
    "        else:\n",
    "            accumulator.append((level, value[0]))\n",
    "            [level_sum(x, accumulator, level + 1) for x in value[1]]\n",
    "    except:\n",
    "        print(\">>>\" + str(value))\n",
    "        print(\"Error:\", sys.exc_info())\n",
    "        return 0\n",
    "    \n",
    "level_sum(first_level, accumulator)\n",
    "[sum([item[1] for item in data]) for (key, data) in itertools.groupby(sorted(accumulator), operator.itemgetter(0))]"
   ]
  },
  {
   "cell_type": "code",
   "execution_count": null,
   "metadata": {},
   "outputs": [],
   "source": []
  },
  {
   "cell_type": "code",
   "execution_count": null,
   "metadata": {},
   "outputs": [],
   "source": []
  }
 ],
 "metadata": {
  "kernelspec": {
   "display_name": "py3",
   "language": "python",
   "name": "py3"
  },
  "language_info": {
   "codemirror_mode": {
    "name": "ipython",
    "version": 3
   },
   "file_extension": ".py",
   "mimetype": "text/x-python",
   "name": "python",
   "nbconvert_exporter": "python",
   "pygments_lexer": "ipython3",
   "version": "3.6.2"
  }
 },
 "nbformat": 4,
 "nbformat_minor": 2
}
