{
 "cells": [
  {
   "cell_type": "code",
   "execution_count": 257,
   "metadata": {},
   "outputs": [],
   "source": [
    "import sys, functools, itertools, operator"
   ]
  },
  {
   "cell_type": "code",
   "execution_count": 348,
   "metadata": {},
   "outputs": [],
   "source": [
    "# first value and second list\n",
    "# 1\n",
    "# 21        22\n",
    "# 311 311   321 321\n",
    "# expected output\n",
    "#1 21+22 311+311+321+321\n",
    "\n",
    "#preparing the initial structure\n",
    "fourth_level_two = [422, []]\n",
    "fourth_level_one = [411, [fourth_level_two]]\n",
    "third_level_one = [311, []]\n",
    "third_level_two = [321, []]\n",
    "third_level_three = [323, [fourth_level_one]]\n",
    "second_level_one = [21, [third_level_one] + [third_level_three] ]\n",
    "second_level_one = [21, [third_level_one] + [third_level_three] + [third_level_one]]\n",
    "\n",
    "second_level_two = [22, [third_level_two] + [third_level_one]]\n",
    "first_level = [1, [second_level_one] + [second_level_two]]\n",
    "\n",
    "\n",
    "accumulator = []\n",
    "def level_sum(value, accumulator, level = 0):\n",
    "    try:\n",
    "        if (len(value[1]) == 0):\n",
    "            accumulator.append((level, value[0]))\n",
    "        else:\n",
    "            accumulator.append((level, value[0]))\n",
    "            [level_sum(x, accumulator, level + 1) for x in value[1]]\n",
    "    except:\n",
    "        print(\">>>\" + str(value))\n",
    "        print(\"Error:\", sys.exc_info())\n",
    "        return 0\n",
    "    \n",
    "level_sum(first_level, accumulator)\n",
    "[sum([item[1] for item in data]) for (key, data) in itertools.groupby(sorted(accumulator), operator.itemgetter(0))]"
   ]
  },
  {
   "cell_type": "code",
   "execution_count": null,
   "metadata": {},
   "outputs": [],
   "source": []
  },
  {
   "cell_type": "code",
   "execution_count": 432,
   "metadata": {},
   "outputs": [],
   "source": [
    "def level_sum(value, level = 0):\n",
    "    print(\">>>:\" + str(value))\n",
    "    try:\n",
    "        if (len(value[1]) == 0):\n",
    "            return [(level, value[0])]\n",
    "        else:\n",
    "            #return [(level, value[0])] + [functools.reduce(lambda x, y: level_sum(x, level + 1) + level_sum(y, level + 1), value[1] + [[0, []]] if len(value[1]) == 1 else value[1])]\n",
    "            return [(level, value[0])] + [level_sum(x, level + 1) for x in value[1]]\n",
    "    except:\n",
    "        print(\">>>\" + str(value))\n",
    "        print(\"Error:\", sys.exc_info())\n",
    "        return 0"
   ]
  },
  {
   "cell_type": "code",
   "execution_count": 433,
   "metadata": {},
   "outputs": [
    {
     "name": "stdout",
     "output_type": "stream",
     "text": [
      ">>>:[1, [[21, [[311, []], [323, [[411, [[422, []]]]]], [311, []]]], [22, [[321, []], [311, []]]]]]\n",
      ">>>:[21, [[311, []], [323, [[411, [[422, []]]]]], [311, []]]]\n",
      ">>>:[311, []]\n",
      ">>>:[323, [[411, [[422, []]]]]]\n",
      ">>>:[411, [[422, []]]]\n",
      ">>>:[422, []]\n",
      ">>>:[0, []]\n",
      ">>>:[0, []]\n",
      ">>>:[(2, 311), (2, 323), [(3, 411), [(4, 422), (4, 0)], (3, 0)]]\n",
      ">>>:2\n",
      ">>>2\n",
      "Error: (<class 'TypeError'>, TypeError(\"'int' object is not subscriptable\",), <traceback object at 0x1058eba88>)\n",
      ">>>:323\n",
      ">>>323\n",
      "Error: (<class 'TypeError'>, TypeError(\"'int' object is not subscriptable\",), <traceback object at 0x1058eba88>)\n",
      ">>>:[311, []]\n",
      ">>>:[22, [[321, []], [311, []]]]\n",
      ">>>:[321, []]\n",
      ">>>:[311, []]\n"
     ]
    },
    {
     "data": {
      "text/plain": [
       "[(0, 1),\n",
       " [(1, 21), [(2, (2, 311)), 0, (2, 311)], (1, 22), [(2, 321), (2, 311)]]]"
      ]
     },
     "execution_count": 433,
     "metadata": {},
     "output_type": "execute_result"
    }
   ],
   "source": [
    "level_sum(first_level)"
   ]
  },
  {
   "cell_type": "code",
   "execution_count": 445,
   "metadata": {},
   "outputs": [],
   "source": [
    "def take(ll):\n",
    "    for h in ll:\n",
    "        print(str(type(h)) + \":\" + str(h))\n",
    "        if type(h) == type(list(range(10))):\n",
    "            return take(h)"
   ]
  },
  {
   "cell_type": "code",
   "execution_count": 446,
   "metadata": {},
   "outputs": [
    {
     "name": "stdout",
     "output_type": "stream",
     "text": [
      "<class 'int'>:0\n",
      "<class 'int'>:1\n",
      "<class 'int'>:2\n",
      "<class 'int'>:3\n",
      "<class 'int'>:4\n",
      "<class 'int'>:5\n",
      "<class 'int'>:6\n",
      "<class 'int'>:7\n",
      "<class 'int'>:8\n",
      "<class 'int'>:9\n"
     ]
    }
   ],
   "source": [
    "take(list(range(10)))"
   ]
  },
  {
   "cell_type": "code",
   "execution_count": 447,
   "metadata": {},
   "outputs": [
    {
     "name": "stdout",
     "output_type": "stream",
     "text": [
      "<class 'tuple'>:(0, 1)\n",
      "<class 'list'>:[(1, 21), [(2, 311)], [(2, 323), [(3, 411), [(4, 422)]]], [(2, 311)]]\n",
      "<class 'tuple'>:(1, 21)\n",
      "<class 'list'>:[(2, 311)]\n",
      "<class 'tuple'>:(2, 311)\n"
     ]
    }
   ],
   "source": [
    "take([(0, 1),\n",
    " [(1, 21), [(2, 311)], [(2, 323), [(3, 411), [(4, 422)]]], [(2, 311)]],\n",
    " [(1, 22), [(2, 321)], [(2, 311)]]])"
   ]
  },
  {
   "cell_type": "code",
   "execution_count": 347,
   "metadata": {},
   "outputs": [
    {
     "name": "stdout",
     "output_type": "stream",
     "text": [
      ">>>:[1, [[21, [[311, []], [323, [[411, [[422, []]]]]]]], [22, [[321, []], [311, []]]]]]\n",
      ">>>:[21, [[311, []], [323, [[411, [[422, []]]]]]]]\n",
      ">>>:[311, []]\n",
      ">>>:[323, [[411, [[422, []]]]]]\n",
      ">>>:[411, [[422, []]]]\n",
      ">>>:[422, []]\n",
      ">>>:[0, []]\n",
      ">>>:[0, []]\n",
      ">>>:[22, [[321, []], [311, []]]]\n",
      ">>>:[321, []]\n",
      ">>>:[311, []]\n"
     ]
    },
    {
     "data": {
      "text/plain": [
       "[1, 43, 1266, 411, 422]"
      ]
     },
     "execution_count": 347,
     "metadata": {},
     "output_type": "execute_result"
    }
   ],
   "source": [
    "[sum([item[1] for item in data]) for (key, data) in itertools.groupby(sorted(level_sum(first_level)), operator.itemgetter(0))]"
   ]
  },
  {
   "cell_type": "code",
   "execution_count": 448,
   "metadata": {},
   "outputs": [],
   "source": [
    "def functionA(*a, **kw):\n",
    "       print(a)\n",
    "       print(kw)\n",
    "    \n",
    "    \n"
   ]
  },
  {
   "cell_type": "code",
   "execution_count": 460,
   "metadata": {},
   "outputs": [
    {
     "data": {
      "text/plain": [
       "[1,\n",
       " [[21, [[311, []], [323, [[411, [[422, []]]]]], [311, []]]],\n",
       "  [22, [[321, []], [311, []]]]]]"
      ]
     },
     "execution_count": 460,
     "metadata": {},
     "output_type": "execute_result"
    }
   ],
   "source": [
    "first_level"
   ]
  },
  {
   "cell_type": "code",
   "execution_count": 472,
   "metadata": {},
   "outputs": [],
   "source": [
    "\n",
    "def return_total(value):\n",
    "    print(value)\n",
    "    accumulator = []\n",
    "    def level_sum(value, level = 0):\n",
    "        print(\">>>\" + str(value))\n",
    "        print(accumulator)\n",
    "        try:\n",
    "            if (len(value[1]) == 0):\n",
    "                accumulator + [(level, value[0])]\n",
    "            else:\n",
    "                #return [(level, value[0])] + [functools.reduce(lambda x, y: level_sum(x, level + 1) + level_sum(y, level + 1), value[1] + [[0, []]] if len(value[1]) == 1 else value[1])]\n",
    "                accumulator + [(level, value[0])] \n",
    "                [level_sum(x, level + 1) for x in value[1]]\n",
    "        except:\n",
    "            print(\">>>\" + str(value))\n",
    "            print(\"Error:\", sys.exc_info())\n",
    "            return 0\n",
    "    level_sum(value)\n",
    "    return accumulator"
   ]
  },
  {
   "cell_type": "code",
   "execution_count": 473,
   "metadata": {},
   "outputs": [
    {
     "name": "stdout",
     "output_type": "stream",
     "text": [
      "[1, [[21, [[311, []], [323, [[411, [[422, []]]]]], [311, []]]], [22, [[321, []], [311, []]]]]]\n",
      ">>>[1, [[21, [[311, []], [323, [[411, [[422, []]]]]], [311, []]]], [22, [[321, []], [311, []]]]]]\n",
      "[]\n",
      ">>>[21, [[311, []], [323, [[411, [[422, []]]]]], [311, []]]]\n",
      "[]\n",
      ">>>[311, []]\n",
      "[]\n",
      ">>>[323, [[411, [[422, []]]]]]\n",
      "[]\n",
      ">>>[411, [[422, []]]]\n",
      "[]\n",
      ">>>[422, []]\n",
      "[]\n",
      ">>>[311, []]\n",
      "[]\n",
      ">>>[22, [[321, []], [311, []]]]\n",
      "[]\n",
      ">>>[321, []]\n",
      "[]\n",
      ">>>[311, []]\n",
      "[]\n"
     ]
    },
    {
     "data": {
      "text/plain": [
       "[]"
      ]
     },
     "execution_count": 473,
     "metadata": {},
     "output_type": "execute_result"
    }
   ],
   "source": [
    "return_total(first_level)"
   ]
  },
  {
   "cell_type": "code",
   "execution_count": 519,
   "metadata": {},
   "outputs": [],
   "source": []
  },
  {
   "cell_type": "code",
   "execution_count": 520,
   "metadata": {},
   "outputs": [
    {
     "data": {
      "text/plain": [
       "[1, 43, 1577, 411, 422]"
      ]
     },
     "execution_count": 520,
     "metadata": {},
     "output_type": "execute_result"
    }
   ],
   "source": []
  },
  {
   "cell_type": "code",
   "execution_count": 518,
   "metadata": {},
   "outputs": [
    {
     "data": {
      "text/plain": [
       "[1, 45, 1577, 411, 422]"
      ]
     },
     "execution_count": 518,
     "metadata": {},
     "output_type": "execute_result"
    }
   ],
   "source": []
  },
  {
   "cell_type": "code",
   "execution_count": 501,
   "metadata": {},
   "outputs": [],
   "source": [
    "test.append((3,4))"
   ]
  },
  {
   "cell_type": "code",
   "execution_count": 502,
   "metadata": {},
   "outputs": [
    {
     "data": {
      "text/plain": [
       "[(1, 2), (3, 4)]"
      ]
     },
     "execution_count": 502,
     "metadata": {},
     "output_type": "execute_result"
    }
   ],
   "source": [
    "test"
   ]
  },
  {
   "cell_type": "code",
   "execution_count": null,
   "metadata": {},
   "outputs": [],
   "source": []
  }
 ],
 "metadata": {
  "kernelspec": {
   "display_name": "py3",
   "language": "python",
   "name": "py3"
  },
  "language_info": {
   "codemirror_mode": {
    "name": "ipython",
    "version": 3
   },
   "file_extension": ".py",
   "mimetype": "text/x-python",
   "name": "python",
   "nbconvert_exporter": "python",
   "pygments_lexer": "ipython3",
   "version": "3.6.2"
  }
 },
 "nbformat": 4,
 "nbformat_minor": 2
}
