{
 "cells": [
  {
   "cell_type": "markdown",
   "metadata": {},
   "source": [
    "# Scope\n",
    "\n",
    "this is another take on free form text parsing.\n",
    "\n",
    "## Limitations\n",
    "\n",
    "this is a quick and dirty work, and therefore the regular expression could have been made a lot more elegant\n",
    "\n",
    "## Reference\n",
    "\n",
    "The following link can be used to test the regular expression https://regex101.com/r/86KIEO/8/\n",
    "\n",
    "## Author\n",
    "\n",
    "Gourav Sengupta\n",
    "\n",
    "If you are interested in solving interesting regular expression based problems please get in touch with [me](g@datamasala.com)"
   ]
  },
  {
   "cell_type": "code",
   "execution_count": 459,
   "metadata": {},
   "outputs": [],
   "source": [
    "import pandas\n",
    "import re, regex\n",
    "import sys, os"
   ]
  },
  {
   "cell_type": "code",
   "execution_count": 460,
   "metadata": {},
   "outputs": [],
   "source": [
    "pandas.options.display.max_rows = 999\n",
    "pandas.options.display.max_colwidth = -1"
   ]
  },
  {
   "cell_type": "markdown",
   "metadata": {},
   "source": [
    "## Environment Details"
   ]
  },
  {
   "cell_type": "code",
   "execution_count": 461,
   "metadata": {},
   "outputs": [
    {
     "data": {
      "text/plain": [
       "'3.6.2 |Continuum Analytics, Inc.| (default, Jul 20 2017, 13:14:59) \\n[GCC 4.2.1 Compatible Apple LLVM 6.0 (clang-600.0.57)]'"
      ]
     },
     "execution_count": 461,
     "metadata": {},
     "output_type": "execute_result"
    }
   ],
   "source": [
    "sys.version"
   ]
  },
  {
   "cell_type": "markdown",
   "metadata": {},
   "source": [
    "## I. Input\n",
    "\n",
    "The input is a free form text file which looks like this\n",
    "\n",
    "```\n",
    "(LM5678) MU7777 Developer             open order hitrom citron     low\n",
    "               and\t\t      hdtv ananda bazar paprika.    (TS09)\n",
    "\t\tValidation\t\t\t\t\t    amit\n",
    "\t\t\t\t\t\t\t\t   sail\n",
    "\n",
    "(LM4444) MU8888 Developer             open1 order1 hitromi citroner     medium\n",
    "               and\t\t      hdtv ananda bazar paprika.    (TS09)\n",
    "\t\tValidation\t\t\t\t\t    amit\n",
    "\t\t\t\t\t\t\t\t   saigal\n",
    "\n",
    "(LM9999) MU9878 Validation\t        model framework I am doing. High\n",
    "\t\t\t\t\t let it be let it be\n",
    "\t\t\t\t\t\t\t\t    \n",
    "\t\t\t\t\tBeatles hdtv hdtv\n",
    "```"
   ]
  },
  {
   "cell_type": "markdown",
   "metadata": {},
   "source": [
    "## II. Parsing the result into Pandas Dataframe"
   ]
  },
  {
   "cell_type": "markdown",
   "metadata": {},
   "source": [
    "### II.a. Entering the text into a variable"
   ]
  },
  {
   "cell_type": "code",
   "execution_count": 462,
   "metadata": {},
   "outputs": [],
   "source": [
    "textToParse = \"\"\"(LM5678) MU7777 Developer             open order hitrom citron     low\n",
    "               and\t\t      hdtv ananda why am I here.    (TS09)\n",
    "\t\tValidation\t\t\t\t\t    amit\n",
    "\t\t\t\t\t\t\t\t   sail\n",
    "\n",
    "(LM4444) MU8888 Developer             open1 order1 hitromi citroner     medium\n",
    "               and\t\t      hdtv ananda bazar paprika.    (TS09)\n",
    "\t\tValidation\t\t\t\t\t    amit\n",
    "\t\t\t\t\t\t\t\t   saigal\n",
    "\n",
    "(LM9999) MU9878 Validation\t        model framework I am doing. High\n",
    "\t\t\t\t\t let it be let it be\n",
    "\t\t\t\t\t\t\t\t    \n",
    "\t\t\t\t\tBeatles hdtv hdtv\"\"\""
   ]
  },
  {
   "cell_type": "markdown",
   "metadata": {},
   "source": [
    "### II.b. Creating the Pandas Dataframe"
   ]
  },
  {
   "cell_type": "code",
   "execution_count": 463,
   "metadata": {},
   "outputs": [],
   "source": [
    "def createPandasDataFrame(textToParse):\n",
    "    regularExpr  = \"(\\s*)?(?<field1>\\(LM\\d+\\))\\s(?<field2>MU\\d+)\\s(?<field3>[a-zA-Z]+)\\s+(?<field4part1>([a-zA-Z0-9\\.]+\\s)+)(\\s+)?(?<field5>[lL]ow|[mM]edium|[hH]igh)([\\s|\\n]+)?(?<field4part2>(((?!\\(LM\\d+\\)).)*[\\s|\\n]?)+)\"\n",
    "    parsedResult = regex.findall(regularExpr, textToParse)\n",
    "    collatedResult = map(lambda record: (record[1],\n",
    "                                         record[2],\n",
    "                                         record[3],\n",
    "                                         record[7],\n",
    "                                         re.sub(\"\\s+|\\t+\", \" \", re.sub(\"\\r|\\n\", \"\", record[4] + record[9]))), \n",
    "                         parsedResult)\n",
    "    return(collatedResult)"
   ]
  },
  {
   "cell_type": "markdown",
   "metadata": {},
   "source": [
    "## III. Showing the result"
   ]
  },
  {
   "cell_type": "code",
   "execution_count": 464,
   "metadata": {},
   "outputs": [
    {
     "data": {
      "text/html": [
       "<div>\n",
       "<style>\n",
       "    .dataframe thead tr:only-child th {\n",
       "        text-align: right;\n",
       "    }\n",
       "\n",
       "    .dataframe thead th {\n",
       "        text-align: left;\n",
       "    }\n",
       "\n",
       "    .dataframe tbody tr th {\n",
       "        vertical-align: top;\n",
       "    }\n",
       "</style>\n",
       "<table border=\"1\" class=\"dataframe\">\n",
       "  <thead>\n",
       "    <tr style=\"text-align: right;\">\n",
       "      <th></th>\n",
       "      <th>field1</th>\n",
       "      <th>field2</th>\n",
       "      <th>field3</th>\n",
       "      <th>field4</th>\n",
       "      <th>field5</th>\n",
       "    </tr>\n",
       "  </thead>\n",
       "  <tbody>\n",
       "    <tr>\n",
       "      <th>0</th>\n",
       "      <td>(LM5678)</td>\n",
       "      <td>MU7777</td>\n",
       "      <td>Developer</td>\n",
       "      <td>low</td>\n",
       "      <td>open order hitrom citron and hdtv ananda why am I here. (TS09) Validation amit sail</td>\n",
       "    </tr>\n",
       "    <tr>\n",
       "      <th>1</th>\n",
       "      <td>(LM4444)</td>\n",
       "      <td>MU8888</td>\n",
       "      <td>Developer</td>\n",
       "      <td>medium</td>\n",
       "      <td>open1 order1 hitromi citroner and hdtv ananda bazar paprika. (TS09) Validation amit saigal</td>\n",
       "    </tr>\n",
       "    <tr>\n",
       "      <th>2</th>\n",
       "      <td>(LM9999)</td>\n",
       "      <td>MU9878</td>\n",
       "      <td>Validation</td>\n",
       "      <td>High</td>\n",
       "      <td>model framework I am doing. let it be let it be Beatles hdtv hdtv</td>\n",
       "    </tr>\n",
       "  </tbody>\n",
       "</table>\n",
       "</div>"
      ],
      "text/plain": [
       "     field1  \\\n",
       "0  (LM5678)   \n",
       "1  (LM4444)   \n",
       "2  (LM9999)   \n",
       "\n",
       "   field2  \\\n",
       "0  MU7777   \n",
       "1  MU8888   \n",
       "2  MU9878   \n",
       "\n",
       "       field3  \\\n",
       "0  Developer    \n",
       "1  Developer    \n",
       "2  Validation   \n",
       "\n",
       "   field4  \\\n",
       "0  low      \n",
       "1  medium   \n",
       "2  High     \n",
       "\n",
       "                                                                                       field5  \n",
       "0  open order hitrom citron and hdtv ananda why am I here. (TS09) Validation amit sail         \n",
       "1  open1 order1 hitromi citroner and hdtv ananda bazar paprika. (TS09) Validation amit saigal  \n",
       "2  model framework I am doing. let it be let it be Beatles hdtv hdtv                           "
      ]
     },
     "execution_count": 464,
     "metadata": {},
     "output_type": "execute_result"
    }
   ],
   "source": [
    "pandas.DataFrame(list(createPandasDataFrame(textToParse)), \n",
    "                 columns = [\"field1\", \"field2\", \"field3\", \"field4\", \"field5\"])"
   ]
  },
  {
   "cell_type": "markdown",
   "metadata": {},
   "source": [
    "## Comments\n",
    "\n",
    "The regular expression has now named groups, and can therefore be studied quite easily. There is no documentation provided as of now on how to read the regular expression\n"
   ]
  }
 ],
 "metadata": {
  "kernelspec": {
   "display_name": "Python 3",
   "language": "python",
   "name": "python3"
  },
  "language_info": {
   "codemirror_mode": {
    "name": "ipython",
    "version": 3
   },
   "file_extension": ".py",
   "mimetype": "text/x-python",
   "name": "python",
   "nbconvert_exporter": "python",
   "pygments_lexer": "ipython3",
   "version": "3.6.2"
  }
 },
 "nbformat": 4,
 "nbformat_minor": 2
}
