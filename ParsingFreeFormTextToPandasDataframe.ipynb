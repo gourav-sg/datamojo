{
 "cells": [
  {
   "cell_type": "markdown",
   "metadata": {},
   "source": [
    "# Scope\n",
    "\n",
    "this is another take on free form text parsing.\n",
    "\n",
    "## Limitations\n",
    "\n",
    "this is a quick and dirty work, and therefore the regular expression could have been made a lot more elegant\n",
    "\n",
    "## Reference\n",
    "\n",
    "The following link can be used to test the regular expression https://regex101.com/r/86KIEO/8/\n",
    "\n",
    "## Author\n",
    "\n",
    "Gourav Sengupta\n",
    "\n",
    "If you are interested in solving interesting regular expression based problems please get in touch with [me](g@datamasala.com)"
   ]
  },
  {
   "cell_type": "code",
   "execution_count": 1,
   "metadata": {},
   "outputs": [],
   "source": [
    "import pandas\n",
    "import re, regex\n",
    "import sys, os"
   ]
  },
  {
   "cell_type": "code",
   "execution_count": 2,
   "metadata": {},
   "outputs": [],
   "source": [
    "pandas.options.display.max_rows = 999\n",
    "pandas.options.display.max_colwidth = -1"
   ]
  },
  {
   "cell_type": "markdown",
   "metadata": {},
   "source": [
    "## Environment Details"
   ]
  },
  {
   "cell_type": "code",
   "execution_count": 3,
   "metadata": {},
   "outputs": [
    {
     "data": {
      "text/plain": [
       "'3.6.2 |Continuum Analytics, Inc.| (default, Jul 20 2017, 13:14:59) \\n[GCC 4.2.1 Compatible Apple LLVM 6.0 (clang-600.0.57)]'"
      ]
     },
     "execution_count": 3,
     "metadata": {},
     "output_type": "execute_result"
    }
   ],
   "source": [
    "sys.version"
   ]
  },
  {
   "cell_type": "markdown",
   "metadata": {},
   "source": [
    "## I. Input\n",
    "\n",
    "The input is a free form text file which looks like this\n",
    "\n",
    "```\n",
    "(LM5678) MU7777 Developer             open order hitrom citron     low\n",
    "               and\t\t      hdtv ananda bazar paprika.    (TS09)\n",
    "\t\tValidation\t\t\t\t\t    amit\n",
    "\t\t\t\t\t\t\t\t   sail\n",
    "\n",
    "(LM4444) MU8888 Developer             open1 order1 hitromi citroner     medium\n",
    "               and\t\t      hdtv ananda bazar paprika.    (TS09)\n",
    "\t\tValidation\t\t\t\t\t    amit\n",
    "\t\t\t\t\t\t\t\t   saigal\n",
    "\n",
    "(LM9999) MU9878 Validation\t        model framework I am doing. High\n",
    "\t\t\t\t\t let it be let it be\n",
    "\t\t\t\t\t\t\t\t    \n",
    "\t\t\t\t\tBeatles hdtv hdtv\n",
    "```"
   ]
  },
  {
   "cell_type": "markdown",
   "metadata": {},
   "source": [
    "## II. Parsing the result into Pandas Dataframe"
   ]
  },
  {
   "cell_type": "markdown",
   "metadata": {},
   "source": [
    "### II.a. Entering the text into a variable\n",
    "\n",
    "this entire text can also be read from a file using the `read()` option and without removing any end of line characters or stripping any end of line strings"
   ]
  },
  {
   "cell_type": "code",
   "execution_count": 4,
   "metadata": {},
   "outputs": [],
   "source": [
    "textToParse = \"\"\"(LM5678) MU7777 Developer             open order hitrom citron     low\n",
    "               and\t\t      hdtv ananda why am I here.    (TS09)\n",
    "\t\tValidation\t\t\t\t\t    amit\n",
    "\t\t\t\t\t\t\t\t   sail\n",
    "\n",
    "(LM4444) MU8888 Developer             open1 order1 hitromi citroner     medium\n",
    "               and\t\t      hdtv ananda bazar paprika.    (TS09)\n",
    "\t\tValidation\t\t\t\t\t    amit\n",
    "\t\t\t\t\t\t\t\t   saigal\n",
    "\n",
    "(LM9999) MU9878 Validation\t        model framework I am doing. High\n",
    "\t\t\t\t\t let it be let it be\n",
    "\t\t\t\t\t\t\t\t    \n",
    "\t\t\t\t\tBeatles hdtv hdtv\n",
    "\n",
    "(LM99) MU9878 Testing\t        model framework I am doing. Low\n",
    "\t\t\t\t\t let it be let it be\n",
    "\t\t\t\t\t\t\t\t    \n",
    "\t\t\t\t\tBeatles things make hdtv\n",
    "                    difference\n",
    "                    \n",
    "                    \n",
    "                    expertise\n",
    "(LM9599) MU9878 Validation\t        Testing other variations. medium\n",
    "\t\t\t\t\t let it be let it be\n",
    "\t\t\t\t\t\t\t\t    \n",
    "\t\t\t\t\tBeatles hdtv hdtv\n",
    "                    yuyuiuyi\n",
    "                    \n",
    "\n",
    "\n",
    "\n",
    "            testing                          rrr                         TestING\"\"\""
   ]
  },
  {
   "cell_type": "markdown",
   "metadata": {},
   "source": [
    "### II.b. Creating the Pandas Dataframe"
   ]
  },
  {
   "cell_type": "code",
   "execution_count": 470,
   "metadata": {},
   "outputs": [],
   "source": [
    "def createPandasDataFrame(textToParse):\n",
    "    regularExpr  = \"(\\s*)?(?<field1>\\(LM\\d+\\))\\s(?<field2>MU\\d+)\\s(?<field3>[a-zA-Z]+)\\s+(?<field4part1>([a-zA-Z0-9\\.]+\\s)+)(\\s+)?(?<field5>[lL]ow|[mM]edium|[hH]igh)([\\s|\\n]+)?(?<field4part2>(((?!\\(LM\\d+\\)).)*[\\s|\\n]?)+)\"\n",
    "    parsedResult = regex.findall(regularExpr, textToParse)\n",
    "    collatedResult = map(lambda record: (record[1],\n",
    "                                         record[2],\n",
    "                                         record[3],\n",
    "                                         record[7],\n",
    "                                         re.sub(\"\\s+|\\t+\", \" \", re.sub(\"\\r|\\n\", \"\", record[4] + record[9]))), \n",
    "                         parsedResult)\n",
    "    return(collatedResult)"
   ]
  },
  {
   "cell_type": "markdown",
   "metadata": {},
   "source": [
    "## III. Showing the result"
   ]
  },
  {
   "cell_type": "code",
   "execution_count": 477,
   "metadata": {},
   "outputs": [
    {
     "data": {
      "text/html": [
       "<div>\n",
       "<style>\n",
       "    .dataframe thead tr:only-child th {\n",
       "        text-align: right;\n",
       "    }\n",
       "\n",
       "    .dataframe thead th {\n",
       "        text-align: left;\n",
       "    }\n",
       "\n",
       "    .dataframe tbody tr th {\n",
       "        vertical-align: top;\n",
       "    }\n",
       "</style>\n",
       "<table border=\"1\" class=\"dataframe\">\n",
       "  <thead>\n",
       "    <tr style=\"text-align: right;\">\n",
       "      <th></th>\n",
       "      <th>field1</th>\n",
       "      <th>field2</th>\n",
       "      <th>field3</th>\n",
       "      <th>field4</th>\n",
       "      <th>field5</th>\n",
       "    </tr>\n",
       "  </thead>\n",
       "  <tbody>\n",
       "    <tr>\n",
       "      <th>0</th>\n",
       "      <td>(LM5678)</td>\n",
       "      <td>MU7777</td>\n",
       "      <td>Developer</td>\n",
       "      <td>low</td>\n",
       "      <td>open order hitrom citron and hdtv ananda why am I here. (TS09) Validation amit sail</td>\n",
       "    </tr>\n",
       "    <tr>\n",
       "      <th>1</th>\n",
       "      <td>(LM4444)</td>\n",
       "      <td>MU8888</td>\n",
       "      <td>Developer</td>\n",
       "      <td>medium</td>\n",
       "      <td>open1 order1 hitromi citroner and hdtv ananda bazar paprika. (TS09) Validation amit saigal</td>\n",
       "    </tr>\n",
       "    <tr>\n",
       "      <th>2</th>\n",
       "      <td>(LM9999)</td>\n",
       "      <td>MU9878</td>\n",
       "      <td>Validation</td>\n",
       "      <td>High</td>\n",
       "      <td>model framework I am doing. let it be let it be Beatles hdtv hdtv</td>\n",
       "    </tr>\n",
       "    <tr>\n",
       "      <th>3</th>\n",
       "      <td>(LM99)</td>\n",
       "      <td>MU9878</td>\n",
       "      <td>Testing</td>\n",
       "      <td>Low</td>\n",
       "      <td>model framework I am doing. let it be let it be Beatles things make hdtv difference expertise</td>\n",
       "    </tr>\n",
       "    <tr>\n",
       "      <th>4</th>\n",
       "      <td>(LM9599)</td>\n",
       "      <td>MU9878</td>\n",
       "      <td>Validation</td>\n",
       "      <td>medium</td>\n",
       "      <td>Testing other variations. let it be let it be Beatles hdtv hdtv yuyuiuyi testing rrr TestING</td>\n",
       "    </tr>\n",
       "  </tbody>\n",
       "</table>\n",
       "</div>"
      ],
      "text/plain": [
       "     field1  \\\n",
       "0  (LM5678)   \n",
       "1  (LM4444)   \n",
       "2  (LM9999)   \n",
       "3  (LM99)     \n",
       "4  (LM9599)   \n",
       "\n",
       "   field2  \\\n",
       "0  MU7777   \n",
       "1  MU8888   \n",
       "2  MU9878   \n",
       "3  MU9878   \n",
       "4  MU9878   \n",
       "\n",
       "       field3  \\\n",
       "0  Developer    \n",
       "1  Developer    \n",
       "2  Validation   \n",
       "3  Testing      \n",
       "4  Validation   \n",
       "\n",
       "   field4  \\\n",
       "0  low      \n",
       "1  medium   \n",
       "2  High     \n",
       "3  Low      \n",
       "4  medium   \n",
       "\n",
       "                                                                                          field5  \n",
       "0  open order hitrom citron and hdtv ananda why am I here. (TS09) Validation amit sail            \n",
       "1  open1 order1 hitromi citroner and hdtv ananda bazar paprika. (TS09) Validation amit saigal     \n",
       "2  model framework I am doing. let it be let it be Beatles hdtv hdtv                              \n",
       "3  model framework I am doing. let it be let it be Beatles things make hdtv difference expertise  \n",
       "4  Testing other variations. let it be let it be Beatles hdtv hdtv yuyuiuyi testing rrr TestING   "
      ]
     },
     "execution_count": 477,
     "metadata": {},
     "output_type": "execute_result"
    }
   ],
   "source": [
    "pandas.DataFrame(list(createPandasDataFrame(textToParse)), \n",
    "                 columns = [\"field1\", \"field2\", \"field3\", \"field4\", \"field5\"])"
   ]
  },
  {
   "cell_type": "markdown",
   "metadata": {},
   "source": [
    "## Comments\n",
    "\n",
    "The regular expression has now named groups, and can therefore be studied quite easily. There is no documentation provided as of now on how to read the regular expression\n"
   ]
  },
  {
   "cell_type": "markdown",
   "metadata": {},
   "source": [
    "## Input \n",
    "\n",
    "\n",
    "\n",
    "```\n",
    "(LM5678) MU7777 Developer             open order hitrom citron     low\n",
    "               and\t\t      hdtv ananda why am I here.    (TS09)\n",
    "\t\tValidation\t\t\t\t\t    amit\n",
    "\t\t\t\t\t\t\t\t   sail\n",
    "\n",
    "(LM4444) MU8888 Developer             open1 order1 hitromi citroner     medium\n",
    "               and\t\t      hdtv ananda bazar paprika.    (TS09)\n",
    "\t\tValidation\t\t\t\t\t    amit\n",
    "\t\t\t\t\t\t\t\t   saigal\n",
    "```\n",
    "\n",
    "\n",
    "Now let us say that the above data has to be parsed and entered as the following:\n",
    "\n",
    "| field1 \t| field2 \t| field3 \t| field4 \t| field5                  \t|\n",
    "|--------\t|--------\t|--------\t|--------\t|-------------------------\t|\n",
    "| (LM5678) \t| MU7777 \t| Developer and Validation \t| open order hitrom citron  hdtv ananda why am I here. (TS09) amit sail\t| low \t|"
   ]
  },
  {
   "cell_type": "code",
   "execution_count": 187,
   "metadata": {},
   "outputs": [],
   "source": [
    "#note this is used to identify all the words that will make up the third column, in case you do not want a word like \n",
    "#and, this can be excluded separately, this has to be case sensitive as well.\n",
    "allowedValuesInThirdField = \"[dD]eveloper|and|[vV]alidation\"\n",
    "\n",
    "#note this is used to identify all the words that will make up the fifth column, in case you do not want a word like \n",
    "#and, this can be excluded separately, this has to be case sensitive as well.\n",
    "allowedValuesInFifthField = \"[lL]ow|[mM]edium|[hH]igh\"\n",
    "\n",
    "#the values of columns after the first row containing (LM****) are separated by multiple spaces, this is for \n",
    "# identifying the minimum number of spaces that are separating the column. If the number of spaces is mentioned to be\n",
    "# 3, then the parser will look for multiples of 3. \n",
    "spacesBetweenColumnsFromNextRow = 5\n",
    "\n",
    "regularExpr = \"(\\s*)?(?<field1>\\(LM\\d+\\))\\s(?<field2>MU\\d+)\\s(?<field3>\" + allowedValuesInThirdField + \"+)\\s+(?<field4part1>([a-zA-Z0-9\\.]+\\s)+)(\\s+)?(?<field5>\" + allowedValuesInFifthField + \")(?<nextrows>(([\\s|\\n]?(?!\\(LM\\d+\\)).)*)+)\"\n",
    "parsedRecords = regex.findall(regularExpr, textToParse)"
   ]
  },
  {
   "cell_type": "code",
   "execution_count": 179,
   "metadata": {},
   "outputs": [
    {
     "name": "stdout",
     "output_type": "stream",
     "text": [
      "[' and', '   hdtv ananda why am I here.    (TS09)\\n\\t\\tValidation', '    amit', '  sail']\n",
      "[' and', '   hdtv ananda bazar paprika.    (TS09)\\n\\t\\tValidation', '    amit', '  saigal']\n",
      "['\\t let it be let it be', '\\t\\t\\t\\tBeatles hdtv hdtv']\n",
      "['\\t let it be let it be', '\\t\\t\\t\\tBeatles hdtv hdtv', ' yuyuiuyi', ' ']\n"
     ]
    }
   ],
   "source": [
    "for record in parsedRecords:\n",
    "    firstField  = record[1]\n",
    "    secondField = record[2]\n",
    "    thirdField  = record[3]\n",
    "    fourthField = record[4]\n",
    "    fifthField  = record[7]\n",
    "    nextRow = list(filter(lambda value: value != '', re.split(string = record[8], pattern = \"[\\t|\\s]{\" + str(spacesBetweenColumnsFromNextRow) + \"}\")))\n",
    "    print(nextRow)"
   ]
  },
  {
   "cell_type": "code",
   "execution_count": 180,
   "metadata": {},
   "outputs": [
    {
     "name": "stdout",
     "output_type": "stream",
     "text": [
      "\n",
      "               and\t\t      hdtv ananda why am I here.    (TS09)\n",
      "\t\tValidation\t\t\t\t\t    amit\n",
      "\t\t\t\t\t\t\t\t   sail\n"
     ]
    }
   ],
   "source": [
    "nextRow = parsedRecords[0][8]\n",
    "print(nextRow)"
   ]
  },
  {
   "cell_type": "markdown",
   "metadata": {},
   "source": [
    "remove __NULL__ values"
   ]
  },
  {
   "cell_type": "code",
   "execution_count": 181,
   "metadata": {},
   "outputs": [
    {
     "data": {
      "text/plain": [
       "['               and\\t\\t      hdtv ananda why am I here.    (TS09)',\n",
       " '\\t\\tValidation\\t\\t\\t\\t\\t    amit',\n",
       " '\\t\\t\\t\\t\\t\\t\\t\\t   sail']"
      ]
     },
     "execution_count": 181,
     "metadata": {},
     "output_type": "execute_result"
    }
   ],
   "source": [
    "list(filter(lambda value: value != '', re.split(pattern = \"\\n+\", string = fieldCheck)))"
   ]
  },
  {
   "cell_type": "code",
   "execution_count": 182,
   "metadata": {},
   "outputs": [],
   "source": [
    "splitRowValues = list(filter(lambda value: value != '', re.split(pattern = \"\\n+\", string = fieldCheck)))"
   ]
  },
  {
   "cell_type": "markdown",
   "metadata": {},
   "source": [
    "split values between rows"
   ]
  },
  {
   "cell_type": "code",
   "execution_count": 183,
   "metadata": {},
   "outputs": [],
   "source": [
    "splitValuesInRows = list(map(lambda rowValue: re.split(\"[\\s|\\t]{\" + str(spacesBetweenColumnsFromNextRow) + \"}\", rowValue), splitRowValues))"
   ]
  },
  {
   "cell_type": "code",
   "execution_count": 184,
   "metadata": {},
   "outputs": [
    {
     "name": "stdout",
     "output_type": "stream",
     "text": [
      "[['', '', '', 'and', '   hdtv ananda why am I here.    (TS09)'], ['\\t\\tValidation', '    amit'], ['', '', ' sail']]\n"
     ]
    }
   ],
   "source": [
    "print(splitValuesInRows)"
   ]
  },
  {
   "cell_type": "markdown",
   "metadata": {},
   "source": [
    "remove __NULL__ values in the split above"
   ]
  },
  {
   "cell_type": "code",
   "execution_count": 185,
   "metadata": {},
   "outputs": [],
   "source": [
    "splitValuesInRows = list(map(lambda rowValue: list(filter(lambda value: value != \"\"\n",
    "                                                          ,re.split(\"[\\s|\\t]{\" + str(spacesBetweenColumnsFromNextRow) + \"}\", rowValue)))\n",
    "                             , splitRowValues))"
   ]
  },
  {
   "cell_type": "code",
   "execution_count": 186,
   "metadata": {},
   "outputs": [
    {
     "name": "stdout",
     "output_type": "stream",
     "text": [
      "[['and', '   hdtv ananda why am I here.    (TS09)'], ['\\t\\tValidation', '    amit'], [' sail']]\n"
     ]
    }
   ],
   "source": [
    "print(list(splitValuesInRows))"
   ]
  },
  {
   "cell_type": "markdown",
   "metadata": {},
   "source": [
    "iterate through the values in rows and check whether the first string belongs to the __allowedValuesInThirdField__ then allocate it to third field else to the fifth field"
   ]
  },
  {
   "cell_type": "code",
   "execution_count": 254,
   "metadata": {},
   "outputs": [
    {
     "name": "stdout",
     "output_type": "stream",
     "text": [
      "Developer\n"
     ]
    }
   ],
   "source": [
    "thirdFieldValue = parsedRecords[0][3]\n",
    "print(thirdFieldValue)"
   ]
  },
  {
   "cell_type": "code",
   "execution_count": 255,
   "metadata": {},
   "outputs": [
    {
     "name": "stdout",
     "output_type": "stream",
     "text": [
      "open order hitrom citron \n"
     ]
    }
   ],
   "source": [
    "fourthFieldValue = parsedRecords[0][4]\n",
    "print(fourthFieldValue)"
   ]
  },
  {
   "cell_type": "code",
   "execution_count": 256,
   "metadata": {},
   "outputs": [],
   "source": [
    "for h in splitValuesInRows:\n",
    "    #does first value belong to the third field?\n",
    "    if (re.match(allowedValuesInThirdField, h[0].strip())):\n",
    "        thirdFieldValue += \" \" + h[0].strip()\n",
    "    else:\n",
    "        fourthFieldValue = fourthFieldValue.strip() + \" \" + h[0].strip()\n",
    "    #append all other values to the fourth field\n",
    "    if (len(h) > 1):\n",
    "        fourthFieldValue = fourthFieldValue.strip() + \" \" + \" \".join(list(map(lambda value: value.strip(), h[1:])))"
   ]
  },
  {
   "cell_type": "code",
   "execution_count": 258,
   "metadata": {},
   "outputs": [
    {
     "name": "stdout",
     "output_type": "stream",
     "text": [
      "Developer and Validation\n"
     ]
    }
   ],
   "source": [
    "print(thirdFieldValue)"
   ]
  },
  {
   "cell_type": "code",
   "execution_count": 259,
   "metadata": {},
   "outputs": [
    {
     "name": "stdout",
     "output_type": "stream",
     "text": [
      "open order hitrom citron hdtv ananda why am I here.    (TS09) amit sail\n"
     ]
    }
   ],
   "source": [
    "print(fourthFieldValue)"
   ]
  },
  {
   "cell_type": "code",
   "execution_count": null,
   "metadata": {},
   "outputs": [],
   "source": []
  }
 ],
 "metadata": {
  "kernelspec": {
   "display_name": "Python 3",
   "language": "python",
   "name": "python3"
  },
  "language_info": {
   "codemirror_mode": {
    "name": "ipython",
    "version": 3
   },
   "file_extension": ".py",
   "mimetype": "text/x-python",
   "name": "python",
   "nbconvert_exporter": "python",
   "pygments_lexer": "ipython3",
   "version": "3.6.2"
  }
 },
 "nbformat": 4,
 "nbformat_minor": 2
}
