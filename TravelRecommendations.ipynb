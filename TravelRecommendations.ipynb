{
 "cells": [
  {
   "cell_type": "code",
   "execution_count": 1,
   "metadata": {},
   "outputs": [],
   "source": [
    "import sys, os \n",
    "import json, jsoncomment\n",
    "import urllib3\n",
    "import functools\n",
    "import unittest"
   ]
  },
  {
   "cell_type": "markdown",
   "metadata": {},
   "source": [
    "# Scope \n",
    "\n",
    "provide recommendations to user preferences based on details mentioned in files. This is a very simple filtering based on the matches between likes and dislikes. \n",
    "\n",
    "Ofcourse, recommendations is a very interesting and involving exercise and there are ML approaches like clustering, k-means and other algorithms which could be used\n",
    "\n",
    "\n",
    "# Assumptions \n",
    "\n",
    " ID        |      Assumption Details     | Design Considerations missed |\n",
    " -----------:|:---------------------------|:-----------------------------|\n",
    " 1         | data is absolutely clean, except for trailing comma in venue file | Data Quality, deduping, nulls, non conformance to structure, etc |\n",
    " 2         | the data volume is really less, therefore we are not using PySpark, Pandas, HIVE and other interesting solutions | Data Volume, scalability and extensibility |\n",
    " 3         | this is just an exercise, therefore we are not including things around optimizing response speed of the process, but the current process does respond back quite fast | Performance Optimization, parallelization, etc |\n",
    " \n",
    " \n",
    " # Changes made to source data\n",
    " \n",
    " 1. We can use regular expressions in order to remove trailing comma from the data but that would have made the solution look complex, I have worked extensively on regular expression and the following [link](https://github.com/gourav-sg/datamojo/blob/master/US%20National%20Agricultural%20Statistics%20Service%20Parser.ipynb) can be used to see one of my work using regular expression which extracts tables from text files\n",
    " 2. All the food and drink names have been changed to smaller case\n",
    " \n",
    "\n",
    "\n",
    "# Improvements that can be made\n",
    "\n",
    " ID        |      Improvement     | \n",
    " ---------:|:---------------------------|\n",
    " 1         | we can create meta-data of the name of the food with common names and that will increase the accuracy |\n",
    " 2         | we can always increase the scalability of this solution by using a few different options |\n",
    " 3         | I would ideally like to put everything in a class and make a package of this, but I think for the purpose of the interview, I thought of using Jupyter to illustrate the solution"
   ]
  },
  {
   "cell_type": "markdown",
   "metadata": {},
   "source": [
    "##  Environment"
   ]
  },
  {
   "cell_type": "code",
   "execution_count": 240,
   "metadata": {},
   "outputs": [
    {
     "data": {
      "text/plain": [
       "'3.6.5 |Anaconda, Inc.| (default, Apr 26 2018, 08:42:37) \\n[GCC 4.2.1 Compatible Clang 4.0.1 (tags/RELEASE_401/final)]'"
      ]
     },
     "execution_count": 240,
     "metadata": {},
     "output_type": "execute_result"
    }
   ],
   "source": [
    "sys.version"
   ]
  },
  {
   "cell_type": "markdown",
   "metadata": {},
   "source": [
    "##  Load the data"
   ]
  },
  {
   "cell_type": "code",
   "execution_count": 3,
   "metadata": {},
   "outputs": [],
   "source": [
    "http = urllib3.PoolManager()\n",
    "parser = jsoncomment.JsonComment(json)\n",
    "urllib3.disable_warnings()\n",
    "\n",
    "\n",
    "def loadData():\n",
    "    usersLink = \"https://gist.githubusercontent.com/benjambles/ea36b76bc5d8ff09a51def54f6ebd0cb/raw/524e40ec297353b8070ff10ee0d9d847e44210f5/users.json\"\n",
    "    usersJson = http.request('GET', usersLink, retries=False)\n",
    "    userRecords = parser.loads(usersJson.data.decode('utf-8').replace(\"\\n\",\"\"))\n",
    "    usersJson.close()\n",
    "\n",
    "    venuesLink = \"https://gist.githubusercontent.com/benjambles/ea36b76bc5d8ff09a51def54f6ebd0cb/raw/524e40ec297353b8070ff10ee0d9d847e44210f5/venues.json\"\n",
    "    venuesJson = http.request('GET', venuesLink, retries=False)\n",
    "    venueRecords = parser.loads(venuesJson.data.decode('utf-8').replace(\"\\n\",\"\"))\n",
    "    venuesJson.close()\n",
    "    \n",
    "    return(userRecords, venueRecords)"
   ]
  },
  {
   "cell_type": "code",
   "execution_count": 6,
   "metadata": {},
   "outputs": [
    {
     "name": "stdout",
     "output_type": "stream",
     "text": [
      "CPU times: user 2.23 ms, sys: 980 µs, total: 3.21 ms\n",
      "Wall time: 12.7 ms\n"
     ]
    }
   ],
   "source": [
    "%time (userRecords, venueRecords) = loadData()"
   ]
  },
  {
   "cell_type": "markdown",
   "metadata": {},
   "source": [
    "Incase we are loading the content from local files"
   ]
  },
  {
   "cell_type": "code",
   "execution_count": 395,
   "metadata": {},
   "outputs": [],
   "source": [
    "parser = jsoncomment.JsonComment(json)\n",
    "\n",
    "usersJson = open(\"/Users/gouravsengupta/Downloads/users.json\", encoding='utf-8')\n",
    "venuesJson = open(\"/Users/gouravsengupta/Downloads/venue.json\", encoding='utf-8')\n",
    "userRecords = parser.loads(usersJson.read())\n",
    "venueRecords = parser.loads(venuesJson.read())\n",
    "usersJson.close()\n",
    "venuesJson.close()"
   ]
  },
  {
   "cell_type": "code",
   "execution_count": 396,
   "metadata": {},
   "outputs": [
    {
     "data": {
      "text/plain": [
       "[{'name': 'John Davis',\n",
       "  'wont_eat': ['Fish'],\n",
       "  'drinks': ['Cider', 'Rum', 'Soft drinks']},\n",
       " {'name': 'Gary Jones',\n",
       "  'wont_eat': ['Eggs', 'Pasta'],\n",
       "  'drinks': ['Tequila', 'Soft drinks', 'beer', 'Coffee']},\n",
       " {'name': 'Robert Webb',\n",
       "  'wont_eat': ['Bread', 'Pasta'],\n",
       "  'drinks': ['Vokda', 'Gin', 'Whisky', 'Rum']},\n",
       " {'name': 'Gavin Coulson',\n",
       "  'wont_eat': [],\n",
       "  'drinks': ['Cider', 'Beer', 'Rum', 'Soft drinks']},\n",
       " {'name': 'Alan Allen',\n",
       "  'wont_eat': ['Meat', 'Fish'],\n",
       "  'drinks': ['Soft drinks', 'Tea']},\n",
       " {'name': 'Bobby Robson',\n",
       "  'wont_eat': ['Mexican'],\n",
       "  'drinks': ['Vokda', 'Gin', 'whisky', 'Rum', 'Cider', 'Beer', 'Soft drinks']},\n",
       " {'name': 'David Lang',\n",
       "  'wont_eat': ['Chinese'],\n",
       "  'drinks': ['Beer', 'cider', 'Rum']}]"
      ]
     },
     "execution_count": 396,
     "metadata": {},
     "output_type": "execute_result"
    }
   ],
   "source": [
    "userRecords"
   ]
  },
  {
   "cell_type": "code",
   "execution_count": 397,
   "metadata": {},
   "outputs": [
    {
     "data": {
      "text/plain": [
       "[{'name': 'El Cantina',\n",
       "  'food': ['Mexican'],\n",
       "  'drinks': ['Soft drinks', 'Tequila', 'Beer']},\n",
       " {'name': 'Twin Dynasty',\n",
       "  'food': ['Chinese'],\n",
       "  'drinks': ['Soft Drinks', 'Rum', 'Beer', 'Whisky', 'Cider']},\n",
       " {'name': 'Spice of life',\n",
       "  'food': ['Eggs', 'Meat', 'Fish', 'Pasta', 'Dairy'],\n",
       "  'drinks': ['Vokda', 'Gin', 'whisky', 'Rum', 'Cider', 'Beer', 'Soft drinks']},\n",
       " {'name': 'The Cambridge',\n",
       "  'food': ['Eggs', 'Meat', 'Fish', 'Pasta', 'Dairy'],\n",
       "  'drinks': ['Vokda', 'Gin', 'Cider', 'Beer', 'Soft drinks']},\n",
       " {'name': 'Wagamama',\n",
       "  'food': ['Japanese'],\n",
       "  'drinks': ['Beer', 'Cider', 'Soft Drinks', 'Sake']},\n",
       " {'name': 'Sultan Sofrasi',\n",
       "  'food': ['Meat', 'Bread', 'Fish'],\n",
       "  'drinks': ['Beer', 'Cider', 'Soft Drinks']},\n",
       " {'name': 'Spirit House',\n",
       "  'food': ['Nuts', 'Cheese', 'Fruit'],\n",
       "  'drinks': ['Vodka', 'Gin', 'Rum', 'Tequila']},\n",
       " {'name': 'Tally Joe',\n",
       "  'food': ['Fish', 'Meat', 'Salad', 'Deserts'],\n",
       "  'drinks': ['Beer', 'Cider', 'Soft Drinks', 'Sake']},\n",
       " {'name': 'Fabrique',\n",
       "  'food': ['Bread', 'Cheese', 'Deli'],\n",
       "  'drinks': ['Soft Drinks', 'Tea', 'Coffee']}]"
      ]
     },
     "execution_count": 397,
     "metadata": {},
     "output_type": "execute_result"
    }
   ],
   "source": [
    "venueRecords"
   ]
  },
  {
   "cell_type": "markdown",
   "metadata": {},
   "source": [
    "## Change the data stucture for easy querying\n",
    "\n",
    "\n",
    "we will be creating a food based key value pair (the assumption here is that the name of food and drink will not be the same"
   ]
  },
  {
   "cell_type": "code",
   "execution_count": 7,
   "metadata": {},
   "outputs": [],
   "source": [
    "def updateData():\n",
    "    itemsInVenue = {} \n",
    "    allVenues = []\n",
    "    allFoodItems = []\n",
    "    allDrinkItems = []\n",
    "\n",
    "    for venue in venueRecords:\n",
    "        allVenues.append(venue[\"name\"])\n",
    "        for food in venue['food']:\n",
    "            food = food.lower()\n",
    "            allFoodItems = list(set(allFoodItems + [food]))\n",
    "            if food not in itemsInVenue.keys():\n",
    "                itemsInVenue[food] = {}\n",
    "                itemsInVenue[food][\"type\"] = 'food'\n",
    "                itemsInVenue[food][\"in_venue\"] = [venue[\"name\"]]\n",
    "            else:\n",
    "                itemsInVenue[food][\"in_venue\"] += [venue[\"name\"]]\n",
    "\n",
    "        for drink in venue['drinks']:\n",
    "            drink = drink.lower()\n",
    "            allDrinkItems = list(set(allDrinkItems + [drink]))        \n",
    "            if drink not in itemsInVenue.keys():\n",
    "                itemsInVenue[drink] = {}\n",
    "                itemsInVenue[drink][\"type\"] = 'drink'\n",
    "                itemsInVenue[drink][\"in_venue\"] = [venue[\"name\"]]\n",
    "            else:\n",
    "               itemsInVenue[drink][\"in_venue\"] += [venue[\"name\"]]\n",
    "            \n",
    "    return (itemsInVenue, allVenues, allFoodItems, allDrinkItems) "
   ]
  },
  {
   "cell_type": "code",
   "execution_count": 384,
   "metadata": {},
   "outputs": [],
   "source": [
    "(itemsInVenue, allVenues, allFoodItems, allDrinkItems) = updateData()"
   ]
  },
  {
   "cell_type": "code",
   "execution_count": 247,
   "metadata": {},
   "outputs": [],
   "source": [
    "# this is not required, but just shows the extensibility of this model\n",
    "#for item in itemsInVenue:\n",
    "#    itemsInVenue[item]['not_in_venue'] = list(set(venues) - set(itemsInVenue[item][\"in_venue\"]))\n",
    "    "
   ]
  },
  {
   "cell_type": "code",
   "execution_count": 385,
   "metadata": {},
   "outputs": [
    {
     "data": {
      "text/plain": [
       "{'mexican': {'type': 'food', 'in_venue': ['El Cantina']},\n",
       " 'soft drinks': {'type': 'drink',\n",
       "  'in_venue': ['El Cantina',\n",
       "   'Twin Dynasty',\n",
       "   'Spice of life',\n",
       "   'The Cambridge',\n",
       "   'Wagamama',\n",
       "   'Sultan Sofrasi',\n",
       "   'Tally Joe',\n",
       "   'Fabrique']},\n",
       " 'tequila': {'type': 'drink', 'in_venue': ['El Cantina', 'Spirit House']},\n",
       " 'beer': {'type': 'drink',\n",
       "  'in_venue': ['El Cantina',\n",
       "   'Twin Dynasty',\n",
       "   'Spice of life',\n",
       "   'The Cambridge',\n",
       "   'Wagamama',\n",
       "   'Sultan Sofrasi',\n",
       "   'Tally Joe']},\n",
       " 'chinese': {'type': 'food', 'in_venue': ['Twin Dynasty']},\n",
       " 'rum': {'type': 'drink',\n",
       "  'in_venue': ['Twin Dynasty', 'Spice of life', 'Spirit House']},\n",
       " 'whisky': {'type': 'drink', 'in_venue': ['Twin Dynasty', 'Spice of life']},\n",
       " 'cider': {'type': 'drink',\n",
       "  'in_venue': ['Twin Dynasty',\n",
       "   'Spice of life',\n",
       "   'The Cambridge',\n",
       "   'Wagamama',\n",
       "   'Sultan Sofrasi',\n",
       "   'Tally Joe']},\n",
       " 'eggs': {'type': 'food', 'in_venue': ['Spice of life', 'The Cambridge']},\n",
       " 'meat': {'type': 'food',\n",
       "  'in_venue': ['Spice of life',\n",
       "   'The Cambridge',\n",
       "   'Sultan Sofrasi',\n",
       "   'Tally Joe']},\n",
       " 'fish': {'type': 'food',\n",
       "  'in_venue': ['Spice of life',\n",
       "   'The Cambridge',\n",
       "   'Sultan Sofrasi',\n",
       "   'Tally Joe']},\n",
       " 'pasta': {'type': 'food', 'in_venue': ['Spice of life', 'The Cambridge']},\n",
       " 'dairy': {'type': 'food', 'in_venue': ['Spice of life', 'The Cambridge']},\n",
       " 'vokda': {'type': 'drink', 'in_venue': ['Spice of life', 'The Cambridge']},\n",
       " 'gin': {'type': 'drink',\n",
       "  'in_venue': ['Spice of life', 'The Cambridge', 'Spirit House']},\n",
       " 'japanese': {'type': 'food', 'in_venue': ['Wagamama']},\n",
       " 'sake': {'type': 'drink', 'in_venue': ['Wagamama', 'Tally Joe']},\n",
       " 'bread': {'type': 'food', 'in_venue': ['Sultan Sofrasi', 'Fabrique']},\n",
       " 'nuts': {'type': 'food', 'in_venue': ['Spirit House']},\n",
       " 'cheese': {'type': 'food', 'in_venue': ['Spirit House', 'Fabrique']},\n",
       " 'fruit': {'type': 'food', 'in_venue': ['Spirit House']},\n",
       " 'vodka': {'type': 'drink', 'in_venue': ['Spirit House']},\n",
       " 'salad': {'type': 'food', 'in_venue': ['Tally Joe']},\n",
       " 'deserts': {'type': 'food', 'in_venue': ['Tally Joe']},\n",
       " 'deli': {'type': 'food', 'in_venue': ['Fabrique']},\n",
       " 'tea': {'type': 'drink', 'in_venue': ['Fabrique']},\n",
       " 'coffee': {'type': 'drink', 'in_venue': ['Fabrique']}}"
      ]
     },
     "execution_count": 385,
     "metadata": {},
     "output_type": "execute_result"
    }
   ],
   "source": [
    "itemsInVenue"
   ]
  },
  {
   "cell_type": "markdown",
   "metadata": {},
   "source": [
    "This shows another way to generate some of the values above, we **do not** need to run this if we have run the code above"
   ]
  },
  {
   "cell_type": "code",
   "execution_count": 386,
   "metadata": {},
   "outputs": [],
   "source": [
    "allFoodItems = list(filter(lambda itemName: itemsInVenue[itemName][\"type\"] == \"food\", itemsInVenue.keys()))\n",
    "allDrinkItems = list(filter(lambda itemName: itemsInVenue[itemName][\"type\"] == \"drink\", itemsInVenue.keys()))\n",
    "allVenues = list(map(lambda venueRecord: venueRecord[\"name\"], venueRecords))"
   ]
  },
  {
   "cell_type": "code",
   "execution_count": 387,
   "metadata": {},
   "outputs": [
    {
     "name": "stdout",
     "output_type": "stream",
     "text": [
      "['El Cantina', 'Twin Dynasty', 'Spice of life', 'The Cambridge', 'Wagamama', 'Sultan Sofrasi', 'Spirit House', 'Tally Joe', 'Fabrique']\n",
      "['mexican', 'chinese', 'eggs', 'meat', 'fish', 'pasta', 'dairy', 'japanese', 'bread', 'nuts', 'cheese', 'fruit', 'salad', 'deserts', 'deli']\n",
      "['soft drinks', 'tequila', 'beer', 'rum', 'whisky', 'cider', 'vokda', 'gin', 'sake', 'vodka', 'tea', 'coffee']\n"
     ]
    }
   ],
   "source": [
    "print(allVenues)\n",
    "print(allFoodItems)\n",
    "print(allDrinkItems)"
   ]
  },
  {
   "cell_type": "markdown",
   "metadata": {},
   "source": [
    "## Generate the features"
   ]
  },
  {
   "cell_type": "code",
   "execution_count": 8,
   "metadata": {},
   "outputs": [],
   "source": [
    "def getDistinctInVenue(userName, drinkNames, wontEatNames):\n",
    "    \n",
    "    drinkNamesLower = list(map(lambda drinkName: drinkName.lower(), drinkNames))\n",
    "    wontEatNamesLower = list(map(lambda wontEatName: wontEatName.lower(), wontEatNames))\n",
    "    eatNamesLower = list(set(allFoodItems) - set(wontEatNamesLower))\n",
    "\n",
    "    allDrinkVenues = list(map(lambda drinkName: itemsInVenue[drinkName][\"in_venue\"] if drinkName in itemsInVenue.keys() else []\n",
    "               , drinkNamesLower))\n",
    "    allFoodVenues = list(map(lambda foodName: itemsInVenue[foodName][\"in_venue\"] if foodName in itemsInVenue.keys() else []\n",
    "               , eatNamesLower))   \n",
    "    \n",
    "    allDistinctDrinkVenues = list(set(list(functools.reduce(lambda venueA, venueB: venueA + venueB, allDrinkVenues))))\n",
    "    allDistinctFoodVenues = list(set(list(functools.reduce(lambda venueA, venueB: venueA + venueB, allFoodVenues))))\n",
    "    allDistinctVenues = list(set(allDistinctDrinkVenues).intersection(set(allDistinctFoodVenues)))\n",
    "\n",
    "    venueWithNothingToDrink = list(set(allVenues) - set(allDistinctVenues))\n",
    "    venueWithNothingToEat   = list(set(allVenues) - set(allDistinctFoodVenues))\n",
    "\n",
    "    return ({'user_name' : userName,\n",
    "             'venues_to_go' : allDistinctVenues, \n",
    "             'venues_with_no_drinks' : venueWithNothingToDrink, \n",
    "             'venues_with_no_food' : venueWithNothingToEat\n",
    "            })\n",
    "\n"
   ]
  },
  {
   "cell_type": "code",
   "execution_count": 389,
   "metadata": {},
   "outputs": [],
   "source": [
    "features = list(map(lambda user: getDistinctInVenue(user[\"name\"], user[\"drinks\"], user[\"wont_eat\"]), userRecords))"
   ]
  },
  {
   "cell_type": "code",
   "execution_count": 390,
   "metadata": {},
   "outputs": [
    {
     "data": {
      "text/plain": [
       "[{'user_name': 'John Davis',\n",
       "  'venues_to_go': ['Tally Joe',\n",
       "   'Wagamama',\n",
       "   'El Cantina',\n",
       "   'The Cambridge',\n",
       "   'Sultan Sofrasi',\n",
       "   'Spice of life',\n",
       "   'Fabrique',\n",
       "   'Spirit House',\n",
       "   'Twin Dynasty'],\n",
       "  'venues_with_no_drinks': [],\n",
       "  'venues_with_no_food': []},\n",
       " {'user_name': 'Gary Jones',\n",
       "  'venues_to_go': ['Tally Joe',\n",
       "   'Wagamama',\n",
       "   'El Cantina',\n",
       "   'The Cambridge',\n",
       "   'Sultan Sofrasi',\n",
       "   'Spice of life',\n",
       "   'Fabrique',\n",
       "   'Spirit House',\n",
       "   'Twin Dynasty'],\n",
       "  'venues_with_no_drinks': [],\n",
       "  'venues_with_no_food': []},\n",
       " {'user_name': 'Robert Webb',\n",
       "  'venues_to_go': ['Twin Dynasty',\n",
       "   'Spirit House',\n",
       "   'The Cambridge',\n",
       "   'Spice of life'],\n",
       "  'venues_with_no_drinks': ['Tally Joe',\n",
       "   'Wagamama',\n",
       "   'El Cantina',\n",
       "   'Sultan Sofrasi',\n",
       "   'Fabrique'],\n",
       "  'venues_with_no_food': []},\n",
       " {'user_name': 'Gavin Coulson',\n",
       "  'venues_to_go': ['Tally Joe',\n",
       "   'Wagamama',\n",
       "   'El Cantina',\n",
       "   'The Cambridge',\n",
       "   'Sultan Sofrasi',\n",
       "   'Spice of life',\n",
       "   'Fabrique',\n",
       "   'Spirit House',\n",
       "   'Twin Dynasty'],\n",
       "  'venues_with_no_drinks': [],\n",
       "  'venues_with_no_food': []},\n",
       " {'user_name': 'Alan Allen',\n",
       "  'venues_to_go': ['Tally Joe',\n",
       "   'Wagamama',\n",
       "   'El Cantina',\n",
       "   'The Cambridge',\n",
       "   'Sultan Sofrasi',\n",
       "   'Spice of life',\n",
       "   'Fabrique',\n",
       "   'Twin Dynasty'],\n",
       "  'venues_with_no_drinks': ['Spirit House'],\n",
       "  'venues_with_no_food': []},\n",
       " {'user_name': 'Bobby Robson',\n",
       "  'venues_to_go': ['Tally Joe',\n",
       "   'Wagamama',\n",
       "   'The Cambridge',\n",
       "   'Sultan Sofrasi',\n",
       "   'Spice of life',\n",
       "   'Fabrique',\n",
       "   'Spirit House',\n",
       "   'Twin Dynasty'],\n",
       "  'venues_with_no_drinks': ['El Cantina'],\n",
       "  'venues_with_no_food': ['El Cantina']},\n",
       " {'user_name': 'David Lang',\n",
       "  'venues_to_go': ['Tally Joe',\n",
       "   'Wagamama',\n",
       "   'El Cantina',\n",
       "   'The Cambridge',\n",
       "   'Sultan Sofrasi',\n",
       "   'Spice of life',\n",
       "   'Spirit House'],\n",
       "  'venues_with_no_drinks': ['Fabrique', 'Twin Dynasty'],\n",
       "  'venues_with_no_food': ['Twin Dynasty']}]"
      ]
     },
     "execution_count": 390,
     "metadata": {},
     "output_type": "execute_result"
    }
   ],
   "source": [
    "features"
   ]
  },
  {
   "cell_type": "markdown",
   "metadata": {},
   "source": [
    "## Generating the recommendation\n",
    "\n",
    "please note that once the features above are generated we can flatten and then input the data to several ML methods to generate recommendations. Currently I am just using basic filtering"
   ]
  },
  {
   "cell_type": "code",
   "execution_count": 9,
   "metadata": {},
   "outputs": [],
   "source": [
    "def getRecommendations(features):\n",
    "    hotelsToVisit = []\n",
    "    hotelsNotToVisit = {}\n",
    "    \n",
    "    for records in features:\n",
    "        if len(hotelsToVisit) == 0: hotelsToVisit = records[\"venues_to_go\"]\n",
    "        else: hotelsToVisit = list(set(hotelsToVisit).intersection(records[\"venues_to_go\"]))\n",
    "        for venue in records[\"venues_with_no_drinks\"]:\n",
    "            if venue not in hotelsNotToVisit.keys():\n",
    "                hotelsNotToVisit[venue] = {}\n",
    "                hotelsNotToVisit[venue][\"nothing_to_eat\"] = []\n",
    "                hotelsNotToVisit[venue][\"nothing_to_drink\"] = [records[\"user_name\"]]\n",
    "            else:\n",
    "                hotelsNotToVisit[venue][\"nothing_to_drink\"] += [records[\"user_name\"]]\n",
    "\n",
    "        for venue in records[\"venues_with_no_food\"]:\n",
    "            if venue not in hotelsNotToVisit.keys():\n",
    "                hotelsNotToVisit[venue] = {}\n",
    "                hotelsNotToVisit[venue][\"nothing_to_drink\"] = []\n",
    "                hotelsNotToVisit[venue][\"nothing_to_eat\"] = [records[\"user_name\"]]\n",
    "            else:\n",
    "                hotelsNotToVisit[venue][\"nothing_to_eat\"] += [records[\"user_name\"]]\n",
    "    return({'hotels_to_visit' : hotelsToVisit, 'hotels_not_to_visit': hotelsNotToVisit})"
   ]
  },
  {
   "cell_type": "markdown",
   "metadata": {},
   "source": [
    "another way of calculating `hotelsToVisit`, we **are not** using this "
   ]
  },
  {
   "cell_type": "code",
   "execution_count": 392,
   "metadata": {},
   "outputs": [],
   "source": [
    "hotelsToVisit = functools.reduce(lambda venueA, venueB: set(venueA).intersection(venueB),                            \n",
    "                 map(lambda user: user['venues_to_go'], features))"
   ]
  },
  {
   "cell_type": "markdown",
   "metadata": {},
   "source": [
    "## Getting it all together"
   ]
  },
  {
   "cell_type": "code",
   "execution_count": 10,
   "metadata": {},
   "outputs": [
    {
     "name": "stdout",
     "output_type": "stream",
     "text": [
      "CPU times: user 2 µs, sys: 1 µs, total: 3 µs\n",
      "Wall time: 5.25 µs\n"
     ]
    },
    {
     "data": {
      "text/plain": [
       "{'hotels_to_visit': ['The Cambridge', 'Spice of life'],\n",
       " 'hotels_not_to_visit': {'Fabrique': {'nothing_to_eat': [],\n",
       "   'nothing_to_drink': ['Robert Webb', 'David Lang']},\n",
       "  'Sultan Sofrasi': {'nothing_to_eat': [],\n",
       "   'nothing_to_drink': ['Robert Webb']},\n",
       "  'El Cantina': {'nothing_to_eat': ['Bobby Robson'],\n",
       "   'nothing_to_drink': ['Robert Webb', 'Bobby Robson']},\n",
       "  'Tally Joe': {'nothing_to_eat': [], 'nothing_to_drink': ['Robert Webb']},\n",
       "  'Wagamama': {'nothing_to_eat': [], 'nothing_to_drink': ['Robert Webb']},\n",
       "  'Spirit House': {'nothing_to_eat': [], 'nothing_to_drink': ['Alan Allen']},\n",
       "  'Twin Dynasty': {'nothing_to_eat': ['David Lang'],\n",
       "   'nothing_to_drink': ['David Lang']}}}"
      ]
     },
     "execution_count": 10,
     "metadata": {},
     "output_type": "execute_result"
    }
   ],
   "source": [
    "%time\n",
    "\n",
    "(userRecords, venueRecords) = loadData()\n",
    "(itemsInVenue, allVenues, allFoodItems, allDrinkItems) = updateData()\n",
    "features = list(map(lambda user: getDistinctInVenue(user[\"name\"], user[\"drinks\"], user[\"wont_eat\"]), userRecords))\n",
    "getRecommendations(features)"
   ]
  },
  {
   "cell_type": "markdown",
   "metadata": {},
   "source": [
    "## Unit Test cases\n",
    "\n",
    "there are several unit test cases that must be written for this exercise, extensively covering, data types, meta-data, data quality, etc, but as of now I am just covering this unit test case."
   ]
  },
  {
   "cell_type": "code",
   "execution_count": 12,
   "metadata": {},
   "outputs": [
    {
     "name": "stderr",
     "output_type": "stream",
     "text": [
      "./Users/gouravsengupta/anaconda/envs/py36/lib/python3.6/site-packages/urllib3/connectionpool.py:858: InsecureRequestWarning: Unverified HTTPS request is being made. Adding certificate verification is strongly advised. See: https://urllib3.readthedocs.io/en/latest/advanced-usage.html#ssl-warnings\n",
      "  InsecureRequestWarning)\n",
      ".\n",
      "----------------------------------------------------------------------\n",
      "Ran 2 tests in 0.015s\n",
      "\n",
      "OK\n"
     ]
    }
   ],
   "source": [
    "class testOutputs(unittest.TestCase):\n",
    "    \"\"\"\n",
    "    testing different scenarios\n",
    "    \"\"\"\n",
    "    \n",
    "    def testHotelsSelection(self):\n",
    "        # testing for a particular drink which is available only in one venue\n",
    "        userRecords = [{'name': 'John Davis', 'wont_eat': ['Fish1'], 'drinks': ['Coffee']}]\n",
    "        features = list(map(lambda user: getDistinctInVenue(user[\"name\"], user[\"drinks\"], user[\"wont_eat\"]), userRecords))\n",
    "        self.assertEqual(getRecommendations(features)['hotels_to_visit'], ['Fabrique'])\n",
    "        \n",
    "    def testHotelsSelection2(self):\n",
    "        # testing by removing a user whose selection was causing may rejections in venues\n",
    "        (userRecords, venueRecords) = loadData()\n",
    "        userRecords = list(filter(lambda user: user[\"name\"] != 'Robert Webb', userRecords))\n",
    "        features = list(map(lambda user: getDistinctInVenue(user[\"name\"], user[\"drinks\"], user[\"wont_eat\"]), userRecords))\n",
    "        self.assertEqual(list(set(getRecommendations(features)['hotels_to_visit']) - set(['Tally Joe',  'Wagamama',  'Sultan Sofrasi',  'The Cambridge',  'Spice of life'])), [])\n",
    "        \n",
    "if __name__ == '__main__':\n",
    "    unittest.main(argv=['first-arg-is-ignored'], exit=False)"
   ]
  },
  {
   "cell_type": "code",
   "execution_count": null,
   "metadata": {},
   "outputs": [],
   "source": []
  }
 ],
 "metadata": {
  "kernelspec": {
   "display_name": "Python 3",
   "language": "python",
   "name": "python3"
  },
  "language_info": {
   "codemirror_mode": {
    "name": "ipython",
    "version": 3
   },
   "file_extension": ".py",
   "mimetype": "text/x-python",
   "name": "python",
   "nbconvert_exporter": "python",
   "pygments_lexer": "ipython3",
   "version": "3.6.5"
  }
 },
 "nbformat": 4,
 "nbformat_minor": 2
}
